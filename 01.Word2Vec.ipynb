{
 "cells": [
  {
   "cell_type": "markdown",
   "metadata": {},
   "source": [
    "# 1. Word2Vec\n",
    "\n",
    "### References\n",
    "- [Distributed Representations of Words and Phrases and their Compositionality - Mikolov et al. 2013](https://papers.nips.cc/paper/5021-distributed-representations-of-words-and-phrases-and-their-compositionality.pdf)\n",
    "- [TensorFlow Tutorial - Vector Representations of Words](https://www.tensorflow.org/tutorials/word2vec)"
   ]
  },
  {
   "cell_type": "code",
   "execution_count": 1,
   "metadata": {},
   "outputs": [],
   "source": [
    "from models import Word2Vec\n",
    "import nltk\n",
    "import string\n",
    "import itertools\n",
    "import time\n",
    "import os\n",
    "import csv\n",
    "import pickle\n",
    "from scipy import spatial\n",
    "%matplotlib inline"
   ]
  },
  {
   "cell_type": "markdown",
   "metadata": {},
   "source": [
    "## Utility Methods\n",
    "Define utility methods for preprocessing corpus."
   ]
  },
  {
   "cell_type": "code",
   "execution_count": 2,
   "metadata": {},
   "outputs": [],
   "source": [
    "def flatten(l):\n",
    "    return list(itertools.chain.from_iterable(l))"
   ]
  },
  {
   "cell_type": "code",
   "execution_count": 3,
   "metadata": {},
   "outputs": [],
   "source": [
    "def normalize_corpus(texts, stops):\n",
    "    # Lower case\n",
    "    texts = [x.lower() for x in texts]\n",
    "\n",
    "    # Remove punctuation\n",
    "    texts = [''.join(c for c in x if c not in string.punctuation) for x in texts]\n",
    "\n",
    "    # Remove numbers\n",
    "    texts = [''.join(c for c in x if c not in '0123456789') for x in texts]\n",
    "\n",
    "    # Remove stopwords\n",
    "    texts = [' '.join([word for word in x.split() if word not in (stops)]) for x in texts]\n",
    "\n",
    "    # Trim extra whitespace\n",
    "    texts = [' '.join(x.split()) for x in texts]\n",
    "    \n",
    "    # remove empty strings\n",
    "    texts = [x for x in texts if x != '']\n",
    "    \n",
    "    return(texts)"
   ]
  },
  {
   "cell_type": "markdown",
   "metadata": {},
   "source": [
    "## Load and Normalize Corpus\n",
    "We will use [Amazon Food Review Corpus](https://www.kaggle.com/snap/amazon-fine-food-reviews). If we have already normalized and saved corpus with pickle, load the data. If not, load raw data and normalize the corpus and save it. This will takes some time since these codes are not optimized for preprocessing corpus."
   ]
  },
  {
   "cell_type": "code",
   "execution_count": 4,
   "metadata": {},
   "outputs": [
    {
     "name": "stdout",
     "output_type": "stream",
     "text": [
      "Found amazon_corpus.pkl. Loading Corpus..\n",
      "DONE!\n"
     ]
    }
   ],
   "source": [
    "if os.path.exists(os.path.join(\"data\",\"amazon_corpus.pkl\")):\n",
    "    print(\"Found amazon_corpus.pkl. Loading Corpus..\")\n",
    "    with open(os.path.join(\"data\", \"amazon_corpus.pkl\"), \"rb\") as f:\n",
    "        corpus = pickle.load(f)\n",
    "        \n",
    "else:\n",
    "    print(\"No amazon_corpus.pkl. Preprocessing Corpus..\")\n",
    "    with open(os.path.join(\"data\", \"Reviews.csv\"), 'r') as f:\n",
    "        reader = csv.reader(f)\n",
    "        next(reader, None)\n",
    "        corpus = [line[-1] for line in reader]\n",
    "\n",
    "    stops = nltk.corpus.stopwords.words('english')\n",
    "    corpus = normalize_corpus(corpus, stops)\n",
    "\n",
    "    corpus = [line.split(' ') for line in corpus]\n",
    "    \n",
    "    with open(os.path.join(\"data\", \"amazon_corpus.pkl\"), \"wb\") as f:\n",
    "        pickle.dump(corpus, f)\n",
    "\n",
    "print(\"DONE!\")"
   ]
  },
  {
   "cell_type": "code",
   "execution_count": 5,
   "metadata": {
    "scrolled": true
   },
   "outputs": [
    {
     "data": {
      "text/plain": [
       "387867"
      ]
     },
     "execution_count": 5,
     "metadata": {},
     "output_type": "execute_result"
    }
   ],
   "source": [
    "len(flatten(corpus[:10000]))"
   ]
  },
  {
   "cell_type": "markdown",
   "metadata": {},
   "source": [
    "## Fit and Train Word2Vec"
   ]
  },
  {
   "cell_type": "code",
   "execution_count": 6,
   "metadata": {},
   "outputs": [],
   "source": [
    "word2vec = Word2Vec.Word2VecModel(150,5, subsampling_threshold=1e-6, max_vocab_size=100000, negative_sample_size=10,\n",
    "                                  learning_rate=0.01)"
   ]
  },
  {
   "cell_type": "code",
   "execution_count": 7,
   "metadata": {
    "scrolled": false
   },
   "outputs": [
    {
     "name": "stdout",
     "output_type": "stream",
     "text": [
      "WARNING:tensorflow:From /home/young/.virtualenv/NLP/lib/python3.6/site-packages/tensorflow/contrib/learn/python/learn/datasets/base.py:198: retry (from tensorflow.contrib.learn.python.learn.datasets.base) is deprecated and will be removed in a future version.\n",
      "Instructions for updating:\n",
      "Use the retry module or similar alternatives.\n"
     ]
    }
   ],
   "source": [
    "word2vec.fit_to_corpus(corpus[:10000])"
   ]
  },
  {
   "cell_type": "code",
   "execution_count": 8,
   "metadata": {
    "scrolled": false
   },
   "outputs": [
    {
     "name": "stdout",
     "output_type": "stream",
     "text": [
      "Writing TensorBoard summaries to log/word2vec\n",
      "Saving TensorFlow models to save/word2vec\n",
      "--------------------------------------------------------------------------------\n",
      "Created and Initialized fresh model. Size: 7092162\n",
      "Total number of batches: 6990\n",
      "--------------------------------------------------------------------------------\n",
      "step: 1000, epoch:1, time/batch: 0.004730638265609741, avg_loss: 55.85453414916992\n",
      "step: 2000, epoch:1, time/batch: 0.004714629650115967, avg_loss: 39.808929443359375\n",
      "step: 3000, epoch:1, time/batch: 0.004714653491973877, avg_loss: 32.703548431396484\n",
      "step: 4000, epoch:1, time/batch: 0.004725279808044433, avg_loss: 29.83208656311035\n",
      "step: 5000, epoch:1, time/batch: 0.004732687950134277, avg_loss: 26.911949157714844\n",
      "Saved summaries at step 5000\n",
      "Saved a model at step 5000\n",
      "step: 6000, epoch:1, time/batch: 0.003923262596130371, avg_loss: 24.58959197998047\n",
      "step: 7000, epoch:2, time/batch: 0.0039365322589874265, avg_loss: 24.12568473815918\n",
      "step: 8000, epoch:2, time/batch: 0.004891706705093384, avg_loss: 20.725706100463867\n",
      "step: 9000, epoch:2, time/batch: 0.005011595010757446, avg_loss: 19.51486587524414\n",
      "step: 10000, epoch:2, time/batch: 0.004917214393615723, avg_loss: 18.614274978637695\n",
      "Saved summaries at step 10000\n",
      "Saved a model at step 10000\n",
      "step: 11000, epoch:2, time/batch: 0.004150937080383301, avg_loss: 18.016380310058594\n",
      "step: 12000, epoch:2, time/batch: 0.0037810444831848145, avg_loss: 17.360788345336914\n",
      "step: 13000, epoch:2, time/batch: 0.00405718994140625, avg_loss: 16.569164276123047\n",
      "step: 14000, epoch:3, time/batch: 0.004711227178573608, avg_loss: 18.6617374420166\n",
      "step: 15000, epoch:3, time/batch: 0.004748004198074341, avg_loss: 16.69866180419922\n",
      "Saved summaries at step 15000\n",
      "Saved a model at step 15000\n",
      "step: 16000, epoch:3, time/batch: 0.003819857358932495, avg_loss: 15.465675354003906\n",
      "step: 17000, epoch:3, time/batch: 0.003651134490966797, avg_loss: 15.455540657043457\n",
      "step: 18000, epoch:3, time/batch: 0.004584795713424682, avg_loss: 15.518375396728516\n",
      "step: 19000, epoch:3, time/batch: 0.0046031796932220455, avg_loss: 15.577807426452637\n",
      "step: 20000, epoch:3, time/batch: 0.004598820447921753, avg_loss: 15.002739906311035\n",
      "Saved summaries at step 20000\n",
      "Saved a model at step 20000\n",
      "step: 21000, epoch:4, time/batch: 0.003989650249481201, avg_loss: 16.666213989257812\n",
      "step: 22000, epoch:4, time/batch: 0.0036722800731658935, avg_loss: 13.943329811096191\n",
      "step: 23000, epoch:4, time/batch: 0.004579585552215576, avg_loss: 14.317611694335938\n",
      "step: 24000, epoch:4, time/batch: 0.0046095819473266604, avg_loss: 14.197280883789062\n",
      "step: 25000, epoch:4, time/batch: 0.004621289968490601, avg_loss: 14.400487899780273\n",
      "Saved summaries at step 25000\n",
      "Saved a model at step 25000\n",
      "step: 26000, epoch:4, time/batch: 0.004267793178558349, avg_loss: 14.343255996704102\n",
      "step: 27000, epoch:4, time/batch: 0.00374721360206604, avg_loss: 14.439724922180176\n",
      "step: 28000, epoch:5, time/batch: 0.004570703029632569, avg_loss: 12.178720474243164\n",
      "step: 29000, epoch:5, time/batch: 0.004597666025161743, avg_loss: 13.971047401428223\n",
      "step: 30000, epoch:5, time/batch: 0.004597975492477417, avg_loss: 13.725029945373535\n",
      "Saved summaries at step 30000\n",
      "Saved a model at step 30000\n",
      "step: 31000, epoch:5, time/batch: 0.003914129257202148, avg_loss: 13.444958686828613\n",
      "step: 32000, epoch:5, time/batch: 0.0038498375415802, avg_loss: 13.331084251403809\n",
      "step: 33000, epoch:5, time/batch: 0.004247394800186158, avg_loss: 13.75535774230957\n",
      "step: 34000, epoch:5, time/batch: 0.004740396499633789, avg_loss: 14.027199745178223\n",
      "step: 35000, epoch:6, time/batch: 0.004732158422470093, avg_loss: 13.465288162231445\n",
      "Saved summaries at step 35000\n",
      "Saved a model at step 35000\n",
      "step: 36000, epoch:6, time/batch: 0.003982025623321533, avg_loss: 13.474811553955078\n",
      "step: 37000, epoch:6, time/batch: 0.0037592780590057374, avg_loss: 13.481727600097656\n",
      "step: 38000, epoch:6, time/batch: 0.0041766235828399655, avg_loss: 13.186736106872559\n",
      "step: 39000, epoch:6, time/batch: 0.004710256814956665, avg_loss: 13.62023639678955\n",
      "step: 40000, epoch:6, time/batch: 0.00473158597946167, avg_loss: 14.287330627441406\n",
      "Saved summaries at step 40000\n",
      "Saved a model at step 40000\n",
      "step: 41000, epoch:6, time/batch: 0.0038552043437957762, avg_loss: 13.697866439819336\n",
      "step: 42000, epoch:7, time/batch: 0.0037706565856933595, avg_loss: 12.859465599060059\n",
      "step: 43000, epoch:7, time/batch: 0.004505069971084595, avg_loss: 13.19775104522705\n",
      "step: 44000, epoch:7, time/batch: 0.0052161173820495605, avg_loss: 13.217772483825684\n",
      "step: 45000, epoch:7, time/batch: 0.0051977505683898926, avg_loss: 13.084115028381348\n",
      "Saved summaries at step 45000\n",
      "Saved a model at step 45000\n",
      "step: 46000, epoch:7, time/batch: 0.003916734457015991, avg_loss: 12.806550025939941\n",
      "step: 47000, epoch:7, time/batch: 0.003570394992828369, avg_loss: 13.65300464630127\n",
      "step: 48000, epoch:7, time/batch: 0.0035608205795288088, avg_loss: 13.72928524017334\n",
      "step: 49000, epoch:8, time/batch: 0.0035754468441009522, avg_loss: 14.0826997756958\n",
      "step: 50000, epoch:8, time/batch: 0.004741890907287598, avg_loss: 13.193151473999023\n",
      "Saved summaries at step 50000\n",
      "Saved a model at step 50000\n",
      "step: 51000, epoch:8, time/batch: 0.003795859336853027, avg_loss: 12.414716720581055\n",
      "step: 52000, epoch:8, time/batch: 0.0035614700317382814, avg_loss: 13.0920991897583\n",
      "step: 53000, epoch:8, time/batch: 0.0035655703544616698, avg_loss: 12.760236740112305\n",
      "step: 54000, epoch:8, time/batch: 0.0035732009410858155, avg_loss: 12.796098709106445\n",
      "step: 55000, epoch:8, time/batch: 0.005611075162887573, avg_loss: 13.772990226745605\n",
      "Saved summaries at step 55000\n",
      "Saved a model at step 55000\n",
      "step: 56000, epoch:9, time/batch: 0.0038787171840667725, avg_loss: 11.749624252319336\n",
      "step: 57000, epoch:9, time/batch: 0.0035920679569244386, avg_loss: 12.644535064697266\n",
      "step: 58000, epoch:9, time/batch: 0.003589116334915161, avg_loss: 12.808306694030762\n",
      "step: 59000, epoch:9, time/batch: 0.003588655471801758, avg_loss: 12.495465278625488\n",
      "step: 60000, epoch:9, time/batch: 0.004897949695587159, avg_loss: 13.2577486038208\n",
      "Saved summaries at step 60000\n",
      "Saved a model at step 60000\n",
      "step: 61000, epoch:9, time/batch: 0.003855085849761963, avg_loss: 12.901726722717285\n",
      "step: 62000, epoch:9, time/batch: 0.0035914950370788574, avg_loss: 12.956123352050781\n",
      "step: 63000, epoch:10, time/batch: 0.0036062760353088377, avg_loss: 12.584745407104492\n",
      "step: 64000, epoch:10, time/batch: 0.0035969698429107666, avg_loss: 12.647876739501953\n",
      "step: 65000, epoch:10, time/batch: 0.004707684516906738, avg_loss: 12.943815231323242\n",
      "Saved summaries at step 65000\n",
      "Saved a model at step 65000\n",
      "step: 66000, epoch:10, time/batch: 0.003856273651123047, avg_loss: 12.801552772521973\n",
      "step: 67000, epoch:10, time/batch: 0.0035917787551879884, avg_loss: 12.913043022155762\n",
      "step: 68000, epoch:10, time/batch: 0.00359393835067749, avg_loss: 12.964183807373047\n",
      "step: 69000, epoch:10, time/batch: 0.0035859699249267576, avg_loss: 12.672320365905762\n"
     ]
    }
   ],
   "source": [
    "word2vec.train(10, log_dir=\"log/word2vec\", save_dir=\"save/word2vec\", print_every=1000)"
   ]
  },
  {
   "cell_type": "markdown",
   "metadata": {},
   "source": [
    "## Test"
   ]
  },
  {
   "cell_type": "code",
   "execution_count": 9,
   "metadata": {},
   "outputs": [],
   "source": [
    "def word_similarity(target, model):\n",
    "    target_V = model.embedding_for(target)\n",
    "    \n",
    "    similarities = []\n",
    "    for word in model.words:\n",
    "        if word == target: continue\n",
    "        \n",
    "        vector = model.embedding_for(word)\n",
    "        cosine_sim = 1 - spatial.distance.cosine(target_V, vector)\n",
    "        similarities.append([word, cosine_sim])\n",
    "    \n",
    "    return sorted(similarities, key=lambda x: x[1], reverse=True)[:10]"
   ]
  },
  {
   "cell_type": "code",
   "execution_count": 10,
   "metadata": {
    "scrolled": true
   },
   "outputs": [
    {
     "data": {
      "text/plain": [
       "[['love', 0.7861440181732178],\n",
       " ['good', 0.7688064575195312],\n",
       " ['taste', 0.7506247758865356],\n",
       " ['like', 0.7419028878211975],\n",
       " ['really', 0.7308947443962097],\n",
       " ['coffee', 0.7296264171600342],\n",
       " ['one', 0.7197518944740295],\n",
       " ['tried', 0.7185659408569336],\n",
       " ['ive', 0.7112924456596375],\n",
       " ['product', 0.7087523937225342]]"
      ]
     },
     "execution_count": 10,
     "metadata": {},
     "output_type": "execute_result"
    }
   ],
   "source": [
    "word_similarity('great', word2vec)"
   ]
  },
  {
   "cell_type": "code",
   "execution_count": 11,
   "metadata": {},
   "outputs": [],
   "source": [
    "word2vec.generate_tsne('log/word2vec/fig.png', size=(15,15), word_count=500)"
   ]
  }
 ],
 "metadata": {
  "kernelspec": {
   "display_name": "Python (NLP)",
   "language": "python",
   "name": "nlp"
  },
  "language_info": {
   "codemirror_mode": {
    "name": "ipython",
    "version": 3
   },
   "file_extension": ".py",
   "mimetype": "text/x-python",
   "name": "python",
   "nbconvert_exporter": "python",
   "pygments_lexer": "ipython3",
   "version": "3.6.5"
  }
 },
 "nbformat": 4,
 "nbformat_minor": 2
}
