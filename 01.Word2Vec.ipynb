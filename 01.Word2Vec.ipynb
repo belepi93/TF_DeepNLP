{
 "cells": [
  {
   "cell_type": "markdown",
   "metadata": {},
   "source": [
    "# 1. Word2Vec\n",
    "\n",
    "### References\n",
    "- [Distributed Representations of Words and Phrases and their Compositionality - Mikolov et al. 2013](https://papers.nips.cc/paper/5021-distributed-representations-of-words-and-phrases-and-their-compositionality.pdf)\n",
    "- [TensorFlow Tutorial - Vector Representations of Words](https://www.tensorflow.org/tutorials/word2vec)"
   ]
  },
  {
   "cell_type": "code",
   "execution_count": 1,
   "metadata": {},
   "outputs": [],
   "source": [
    "import Word2Vec\n",
    "import nltk\n",
    "import string\n",
    "import itertools\n",
    "import time\n",
    "import os\n",
    "import csv\n",
    "import pickle\n",
    "from scipy import spatial\n",
    "%matplotlib inline"
   ]
  },
  {
   "cell_type": "markdown",
   "metadata": {},
   "source": [
    "## Utility Methods\n",
    "Define utility methods for preprocessing corpus."
   ]
  },
  {
   "cell_type": "code",
   "execution_count": 2,
   "metadata": {},
   "outputs": [],
   "source": [
    "def flatten(l):\n",
    "    return list(itertools.chain.from_iterable(l))"
   ]
  },
  {
   "cell_type": "code",
   "execution_count": 3,
   "metadata": {},
   "outputs": [],
   "source": [
    "def normalize_corpus(texts, stops):\n",
    "    # Lower case\n",
    "    texts = [x.lower() for x in texts]\n",
    "\n",
    "    # Remove punctuation\n",
    "    texts = [''.join(c for c in x if c not in string.punctuation) for x in texts]\n",
    "\n",
    "    # Remove numbers\n",
    "    texts = [''.join(c for c in x if c not in '0123456789') for x in texts]\n",
    "\n",
    "    # Remove stopwords\n",
    "    texts = [' '.join([word for word in x.split() if word not in (stops)]) for x in texts]\n",
    "\n",
    "    # Trim extra whitespace\n",
    "    texts = [' '.join(x.split()) for x in texts]\n",
    "    \n",
    "    # remove empty strings\n",
    "    texts = [x for x in texts if x != '']\n",
    "    \n",
    "    return(texts)"
   ]
  },
  {
   "cell_type": "markdown",
   "metadata": {},
   "source": [
    "## Load and Normalize Corpus\n",
    "We will use [Amazon Food Review Corpus](https://www.kaggle.com/snap/amazon-fine-food-reviews). If we have already normalized and saved corpus with pickle, load the data. If not, load raw data and normalize the corpus and save it. This will takes some time since these codes are not optimized for preprocessing corpus."
   ]
  },
  {
   "cell_type": "code",
   "execution_count": 4,
   "metadata": {},
   "outputs": [
    {
     "name": "stdout",
     "output_type": "stream",
     "text": [
      "Found amazon_corpus.pkl. Loading Corpus..\n",
      "DONE!\n"
     ]
    }
   ],
   "source": [
    "if os.path.exists(\"amazon_corpus.pkl\"):\n",
    "    print(\"Found amazon_corpus.pkl. Loading Corpus..\")\n",
    "    with open(\"amazon_corpus.pkl\", \"rb\") as f:\n",
    "        corpus = pickle.load(f)\n",
    "        \n",
    "else:\n",
    "    print(\"No amazon_corpus.pkl. Preprocessing Corpus..\")\n",
    "    with open(os.path.join(\"/home/young/Dropbox/Study/Project/data\", \"Reviews.csv\"), 'r') as f:\n",
    "        reader = csv.reader(f)\n",
    "        next(reader, None)\n",
    "        corpus = [line[-1] for line in reader]\n",
    "\n",
    "    stops = nltk.corpus.stopwords.words('english')\n",
    "    corpus = normalize_corpus(corpus, stops)\n",
    "\n",
    "    corpus = [line.split(' ') for line in corpus]\n",
    "    \n",
    "    with open(\"amazon_corpus.pkl\", \"wb\") as f:\n",
    "        pickle.dump(corpus, f)\n",
    "\n",
    "print(\"DONE!\")"
   ]
  },
  {
   "cell_type": "code",
   "execution_count": 11,
   "metadata": {
    "scrolled": true
   },
   "outputs": [
    {
     "data": {
      "text/plain": [
       "387867"
      ]
     },
     "execution_count": 11,
     "metadata": {},
     "output_type": "execute_result"
    }
   ],
   "source": [
    "len(flatten(corpus[:10000]))"
   ]
  },
  {
   "cell_type": "markdown",
   "metadata": {},
   "source": [
    "## Fit and Train Word2Vec"
   ]
  },
  {
   "cell_type": "code",
   "execution_count": 6,
   "metadata": {},
   "outputs": [],
   "source": [
    "word2vec = Word2Vec.Word2VecModel(150,5, subsampling_threshold=1e-6, max_vocab_size=100000, negative_sample_size=10,\n",
    "                                  learning_rate=0.01)"
   ]
  },
  {
   "cell_type": "code",
   "execution_count": 7,
   "metadata": {
    "scrolled": false
   },
   "outputs": [
    {
     "name": "stdout",
     "output_type": "stream",
     "text": [
      "WARNING:tensorflow:From /home/young/.virtualenv/NLP/lib/python3.6/site-packages/tensorflow/contrib/learn/python/learn/datasets/base.py:198: retry (from tensorflow.contrib.learn.python.learn.datasets.base) is deprecated and will be removed in a future version.\n",
      "Instructions for updating:\n",
      "Use the retry module or similar alternatives.\n"
     ]
    }
   ],
   "source": [
    "word2vec.fit_to_corpus(corpus[:10000])"
   ]
  },
  {
   "cell_type": "code",
   "execution_count": 8,
   "metadata": {
    "scrolled": false
   },
   "outputs": [
    {
     "name": "stdout",
     "output_type": "stream",
     "text": [
      "Writing TensorBoard summaries to log\n",
      "Saving TensorFlow models to save\n",
      "--------------------------------------------------------------------------------\n",
      "Created and Initialized fresh model. Size: 7092162\n",
      "Total number of batches: 6990\n",
      "--------------------------------------------------------------------------------\n",
      "step: 1000, epoch:1, time/batch: 0.004911087989807129, avg_loss: 42.68687438964844\n",
      "step: 2000, epoch:1, time/batch: 0.004730724334716797, avg_loss: 34.19025802612305\n",
      "step: 3000, epoch:1, time/batch: 0.004783396244049072, avg_loss: 29.222558975219727\n",
      "step: 4000, epoch:1, time/batch: 0.0048897314071655274, avg_loss: 27.20993423461914\n",
      "step: 5000, epoch:1, time/batch: 0.005037831783294678, avg_loss: 25.04834747314453\n",
      "Saved summaries at step 5000\n",
      "Saved a model at step 5000\n",
      "step: 6000, epoch:1, time/batch: 0.003989023685455322, avg_loss: 22.82687759399414\n",
      "step: 7000, epoch:2, time/batch: 3.703451156616211e-05, avg_loss: 15.624125480651855\n",
      "step: 8000, epoch:2, time/batch: 0.004479331254959106, avg_loss: 19.989931106567383\n",
      "step: 9000, epoch:2, time/batch: 0.004815351486206054, avg_loss: 18.60636329650879\n",
      "step: 10000, epoch:2, time/batch: 0.004803039789199829, avg_loss: 18.01262092590332\n",
      "Saved summaries at step 10000\n",
      "Saved a model at step 10000\n",
      "step: 11000, epoch:2, time/batch: 0.0039440586566925045, avg_loss: 16.865550994873047\n",
      "step: 12000, epoch:2, time/batch: 0.003883357524871826, avg_loss: 16.70521354675293\n",
      "step: 13000, epoch:2, time/batch: 0.004680979490280152, avg_loss: 17.265583038330078\n",
      "step: 14000, epoch:3, time/batch: 0.00010485863685607911, avg_loss: 18.5386962890625\n",
      "step: 15000, epoch:3, time/batch: 0.0048453364372253414, avg_loss: 15.520343780517578\n",
      "Saved summaries at step 15000\n",
      "Saved a model at step 15000\n",
      "step: 16000, epoch:3, time/batch: 0.004026141166687012, avg_loss: 15.465537071228027\n",
      "step: 17000, epoch:3, time/batch: 0.0038544914722442626, avg_loss: 15.18355655670166\n",
      "step: 18000, epoch:3, time/batch: 0.004212539672851562, avg_loss: 15.241033554077148\n",
      "step: 19000, epoch:3, time/batch: 0.004726400852203369, avg_loss: 15.201231956481934\n",
      "step: 20000, epoch:3, time/batch: 0.005029330015182495, avg_loss: 15.041738510131836\n",
      "Saved summaries at step 20000\n",
      "Saved a model at step 20000\n",
      "step: 21000, epoch:4, time/batch: 0.00011636877059936524, avg_loss: 13.166525840759277\n",
      "step: 22000, epoch:4, time/batch: 0.0038550164699554445, avg_loss: 14.539599418640137\n",
      "step: 23000, epoch:4, time/batch: 0.004295897722244263, avg_loss: 14.670804977416992\n",
      "step: 24000, epoch:4, time/batch: 0.004871537685394287, avg_loss: 14.43815803527832\n",
      "step: 25000, epoch:4, time/batch: 0.004705091714859009, avg_loss: 14.242049217224121\n",
      "Saved summaries at step 25000\n",
      "Saved a model at step 25000\n",
      "step: 26000, epoch:4, time/batch: 0.003961101770401001, avg_loss: 14.370595932006836\n",
      "step: 27000, epoch:4, time/batch: 0.0039022135734558105, avg_loss: 14.527681350708008\n",
      "step: 28000, epoch:5, time/batch: 0.00018526840209960938, avg_loss: 14.032564163208008\n",
      "step: 29000, epoch:5, time/batch: 0.004990947961807251, avg_loss: 13.852516174316406\n",
      "step: 30000, epoch:5, time/batch: 0.004790767908096314, avg_loss: 13.929950714111328\n",
      "Saved summaries at step 30000\n",
      "Saved a model at step 30000\n",
      "step: 31000, epoch:5, time/batch: 0.004238968372344971, avg_loss: 13.9695463180542\n",
      "step: 32000, epoch:5, time/batch: 0.003910536527633667, avg_loss: 14.348794937133789\n",
      "step: 33000, epoch:5, time/batch: 0.00419500207901001, avg_loss: 13.768265724182129\n",
      "step: 34000, epoch:5, time/batch: 0.004757247686386109, avg_loss: 13.79910945892334\n",
      "step: 35000, epoch:6, time/batch: 0.00025185418128967287, avg_loss: 15.334389686584473\n",
      "Saved summaries at step 35000\n",
      "Saved a model at step 35000\n",
      "step: 36000, epoch:6, time/batch: 0.003968299150466919, avg_loss: 13.493496894836426\n",
      "step: 37000, epoch:6, time/batch: 0.004078005790710449, avg_loss: 13.341109275817871\n",
      "step: 38000, epoch:6, time/batch: 0.004545285701751709, avg_loss: 13.259121894836426\n",
      "step: 39000, epoch:6, time/batch: 0.004757971048355103, avg_loss: 13.314732551574707\n",
      "step: 40000, epoch:6, time/batch: 0.004814741134643555, avg_loss: 13.796387672424316\n",
      "Saved summaries at step 40000\n",
      "Saved a model at step 40000\n",
      "step: 41000, epoch:6, time/batch: 0.004062921047210693, avg_loss: 14.02858829498291\n",
      "step: 42000, epoch:7, time/batch: 0.00027816963195800783, avg_loss: 13.506805419921875\n",
      "step: 43000, epoch:7, time/batch: 0.004324486017227173, avg_loss: 13.740530967712402\n",
      "step: 44000, epoch:7, time/batch: 0.004809488773345947, avg_loss: 12.911857604980469\n",
      "step: 45000, epoch:7, time/batch: 0.004818113803863525, avg_loss: 13.553253173828125\n",
      "Saved summaries at step 45000\n",
      "Saved a model at step 45000\n",
      "step: 46000, epoch:7, time/batch: 0.004007584333419799, avg_loss: 14.058409690856934\n",
      "step: 47000, epoch:7, time/batch: 0.004084925889968872, avg_loss: 13.419550895690918\n",
      "step: 48000, epoch:7, time/batch: 0.0041567964553833004, avg_loss: 13.76388931274414\n",
      "step: 49000, epoch:8, time/batch: 0.0003449873924255371, avg_loss: 12.492692947387695\n",
      "step: 50000, epoch:8, time/batch: 0.004821414232254028, avg_loss: 13.755365371704102\n",
      "Saved summaries at step 50000\n",
      "Saved a model at step 50000\n",
      "step: 51000, epoch:8, time/batch: 0.003968831062316895, avg_loss: 13.528252601623535\n",
      "step: 52000, epoch:8, time/batch: 0.00399673318862915, avg_loss: 12.893468856811523\n",
      "step: 53000, epoch:8, time/batch: 0.004217903137207032, avg_loss: 13.583316802978516\n",
      "step: 54000, epoch:8, time/batch: 0.004714781761169433, avg_loss: 13.429594039916992\n",
      "step: 55000, epoch:8, time/batch: 0.0047694149017333985, avg_loss: 13.655128479003906\n",
      "Saved summaries at step 55000\n",
      "Saved a model at step 55000\n",
      "step: 56000, epoch:9, time/batch: 0.0003149275779724121, avg_loss: 14.438891410827637\n",
      "step: 57000, epoch:9, time/batch: 0.004019004344940185, avg_loss: 13.158682823181152\n",
      "step: 58000, epoch:9, time/batch: 0.00438985013961792, avg_loss: 13.090222358703613\n",
      "step: 59000, epoch:9, time/batch: 0.004879773139953613, avg_loss: 12.96239185333252\n",
      "step: 60000, epoch:9, time/batch: 0.004638808727264404, avg_loss: 13.04404354095459\n",
      "Saved summaries at step 60000\n",
      "Saved a model at step 60000\n",
      "step: 61000, epoch:9, time/batch: 0.004067295074462891, avg_loss: 12.844406127929688\n",
      "step: 62000, epoch:9, time/batch: 0.003933151006698608, avg_loss: 13.445333480834961\n",
      "step: 63000, epoch:10, time/batch: 0.0004726309776306152, avg_loss: 13.028793334960938\n",
      "step: 64000, epoch:10, time/batch: 0.004713699102401734, avg_loss: 13.0313720703125\n",
      "step: 65000, epoch:10, time/batch: 0.004592258214950562, avg_loss: 13.079934120178223\n",
      "Saved summaries at step 65000\n",
      "Saved a model at step 65000\n",
      "step: 66000, epoch:10, time/batch: 0.003965106725692749, avg_loss: 13.414690971374512\n",
      "step: 67000, epoch:10, time/batch: 0.004163226842880249, avg_loss: 12.555278778076172\n",
      "step: 68000, epoch:10, time/batch: 0.004272633552551269, avg_loss: 13.261666297912598\n",
      "step: 69000, epoch:10, time/batch: 0.004539257049560547, avg_loss: 13.132843971252441\n"
     ]
    }
   ],
   "source": [
    "word2vec.train(10, log_dir=\"log/word2vec\", save_dir=\"save/word2vec\", print_every=1000)"
   ]
  },
  {
   "cell_type": "markdown",
   "metadata": {},
   "source": [
    "## Test"
   ]
  },
  {
   "cell_type": "code",
   "execution_count": 9,
   "metadata": {},
   "outputs": [],
   "source": [
    "def word_similarity(target, model):\n",
    "    target_V = model.embedding_for(target)\n",
    "    \n",
    "    similarities = []\n",
    "    for word in model.words:\n",
    "        if word == target: continue\n",
    "        \n",
    "        vector = model.embedding_for(word)\n",
    "        cosine_sim = 1 - spatial.distance.cosine(target_V, vector)\n",
    "        similarities.append([word, cosine_sim])\n",
    "    \n",
    "    return sorted(similarities, key=lambda x: x[1], reverse=True)[:10]"
   ]
  },
  {
   "cell_type": "code",
   "execution_count": 10,
   "metadata": {
    "scrolled": true
   },
   "outputs": [
    {
     "data": {
      "text/plain": [
       "[['like', 0.7117627859115601],\n",
       " ['love', 0.7079678773880005],\n",
       " ['taste', 0.6982841491699219],\n",
       " ['br', 0.6952022314071655],\n",
       " ['make', 0.6903050541877747],\n",
       " ['good', 0.6882364153862],\n",
       " ['coffee', 0.682274341583252],\n",
       " ['would', 0.6748025417327881],\n",
       " ['well', 0.6683940887451172],\n",
       " ['product', 0.6657009124755859]]"
      ]
     },
     "execution_count": 10,
     "metadata": {},
     "output_type": "execute_result"
    }
   ],
   "source": [
    "word_similarity('great', word2vec)"
   ]
  },
  {
   "cell_type": "code",
   "execution_count": 13,
   "metadata": {},
   "outputs": [],
   "source": [
    "word2vec.generate_tsne('log/word2vec/fig.png', size=(15,15), word_count=500)"
   ]
  }
 ],
 "metadata": {
  "kernelspec": {
   "display_name": "Python (NLP)",
   "language": "python",
   "name": "nlp"
  },
  "language_info": {
   "codemirror_mode": {
    "name": "ipython",
    "version": 3
   },
   "file_extension": ".py",
   "mimetype": "text/x-python",
   "name": "python",
   "nbconvert_exporter": "python",
   "pygments_lexer": "ipython3",
   "version": "3.6.5"
  }
 },
 "nbformat": 4,
 "nbformat_minor": 2
}
